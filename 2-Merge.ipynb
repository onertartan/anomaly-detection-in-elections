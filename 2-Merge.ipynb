{
 "cells": [
  {
   "cell_type": "code",
   "execution_count": 3,
   "id": "2e5a942e-428d-4e60-9ad1-13bc31ee44a0",
   "metadata": {
    "tags": []
   },
   "outputs": [],
   "source": [
    "import pandas as pd"
   ]
  },
  {
   "cell_type": "markdown",
   "id": "47c0631a-db93-4b85-a1b3-5ced0e0eabf2",
   "metadata": {},
   "source": [
    "## 0-Read Data"
   ]
  },
  {
   "cell_type": "code",
   "execution_count": null,
   "id": "298724e1-6ab0-4172-ab97-5b9ad4142177",
   "metadata": {
    "tags": []
   },
   "outputs": [],
   "source": [
    "df_towns = pd.read_csv(\"df_towns.csv\")\n",
    "df_towns.head(2)"
   ]
  },
  {
   "cell_type": "code",
   "execution_count": null,
   "id": "a9417fe6-0cc4-47a3-a345-ce15b8956db0",
   "metadata": {
    "tags": []
   },
   "outputs": [],
   "source": [
    "df_literacy = pd.read_csv(\"df_literacy.csv\",index_col=[\"year\"])\n",
    "df_literacy.head(2)"
   ]
  },
  {
   "cell_type": "markdown",
   "id": "5801b505-07d6-44c4-a19d-07cf232ac97b",
   "metadata": {},
   "source": [
    "## 1-Select a year for df_literacy and merge to get results"
   ]
  },
  {
   "cell_type": "code",
   "execution_count": null,
   "id": "68299f6f-080a-48ee-b1bc-7b96cb41f012",
   "metadata": {
    "tags": []
   },
   "outputs": [],
   "source": [
    "def get_results_for_year(year,df_towns,df_literacy):\n",
    "    df_results = df_towns.merge(df_literacy.loc[year], on=[\"town\",\"city\"])\n",
    "    return df_results"
   ]
  },
  {
   "cell_type": "code",
   "execution_count": null,
   "id": "55c0a68b-56ba-4d34-844b-54e279ae5a04",
   "metadata": {
    "tags": []
   },
   "outputs": [],
   "source": [
    "df_results = get_results_for_year(2022,df_towns,df_literacy)\n",
    "df_results.head(2)"
   ]
  },
  {
   "cell_type": "markdown",
   "id": "4ffc906a-63a3-4450-9f94-e5883a231121",
   "metadata": {},
   "source": [
    "Number of rows must remain same after inner merge operation."
   ]
  },
  {
   "cell_type": "code",
   "execution_count": null,
   "id": "620eadad-c6be-49e6-81ab-cec6e15228df",
   "metadata": {
    "tags": []
   },
   "outputs": [],
   "source": [
    "df_literacy.loc[2022].shape,df_towns.shape,df_results.shape"
   ]
  },
  {
   "cell_type": "code",
   "execution_count": 4,
   "id": "c05f6d08-c4c2-412e-984c-5abe4d6d6ab4",
   "metadata": {
    "tags": []
   },
   "outputs": [],
   "source": [
    "temp =pd.read_excel(\"data/secim.xlsx\",index_col=[0],sheet_name=None)"
   ]
  },
  {
   "cell_type": "code",
   "execution_count": 5,
   "id": "858058fd-06c2-4954-9c12-a2bc251c0c55",
   "metadata": {
    "tags": []
   },
   "outputs": [
    {
     "name": "stdout",
     "output_type": "stream",
     "text": [
      "12\n",
      "9\n",
      "12\n",
      "7\n",
      "8\n",
      "7\n",
      "25\n",
      "19\n",
      "6\n",
      "9\n",
      "17\n",
      "20\n",
      "4\n",
      "6\n",
      "3\n",
      "8\n",
      "8\n",
      "7\n",
      "9\n",
      "11\n",
      "17\n",
      "12\n",
      "14\n",
      "19\n",
      "17\n",
      "8\n",
      "9\n"
     ]
    },
    {
     "data": {
      "text/plain": [
       "303"
      ]
     },
     "execution_count": 5,
     "metadata": {},
     "output_type": "execute_result"
    }
   ],
   "source": [
    "xls = pd.ExcelFile(\"data/secim.xlsx\")\n",
    "toplam=0\n",
    "for sheet_name in xls.sheet_names:\n",
    "     n = pd.read_excel(\"data/secim.xlsx\",index_col=[0],sheet_name=sheet_name).index.nunique()\n",
    "     toplam +=n\n",
    "     print(n)\n",
    "toplam"
   ]
  },
  {
   "cell_type": "code",
   "execution_count": null,
   "id": "65d93e2a-7e34-475c-9bcd-52684ca41785",
   "metadata": {},
   "outputs": [],
   "source": []
  },
  {
   "cell_type": "code",
   "execution_count": null,
   "id": "aa923b83-4cba-4cac-99d1-754e1cf3bd50",
   "metadata": {},
   "outputs": [],
   "source": []
  }
 ],
 "metadata": {
  "kernelspec": {
   "display_name": "Python 3 (ipykernel)",
   "language": "python",
   "name": "python3"
  },
  "language_info": {
   "codemirror_mode": {
    "name": "ipython",
    "version": 3
   },
   "file_extension": ".py",
   "mimetype": "text/x-python",
   "name": "python",
   "nbconvert_exporter": "python",
   "pygments_lexer": "ipython3",
   "version": "3.9.7"
  }
 },
 "nbformat": 4,
 "nbformat_minor": 5
}
